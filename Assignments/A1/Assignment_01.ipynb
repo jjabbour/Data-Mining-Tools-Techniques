{
 "metadata": {
  "name": ""
 },
 "nbformat": 3,
 "nbformat_minor": 0,
 "worksheets": [
  {
   "cells": [
    {
     "cell_type": "markdown",
     "metadata": {},
     "source": [
      "# Jamil Antoine Jabbour\n",
      "# SCS 3030 Big Data Tools and Techniques: Mining Financial, Operational and Social Networks Data\n",
      "#Assignment 01"
     ]
    },
    {
     "cell_type": "markdown",
     "metadata": {},
     "source": [
      "### Part 1, Problem 4\n",
      "#### What is the output of x,y?"
     ]
    },
    {
     "cell_type": "code",
     "collapsed": false,
     "input": [
      "x = 4                # Assign x to 4 \n",
      "y = x + 1            # compute y = x + 1 = 4 + 1 = 5\n",
      "x = 2                # reassign x to 2 now x = 2 \n",
      "print x, y           # print the output x and y \n",
      "\n",
      "# The output would be x = 2 because the last statment assign \n",
      "# and the y = 5 because second statment compute the sum of x and 1 where x is assigned to 4 in previous statment"
     ],
     "language": "python",
     "metadata": {},
     "outputs": [
      {
       "output_type": "stream",
       "stream": "stdout",
       "text": [
        "2 5\n"
       ]
      }
     ],
     "prompt_number": 2
    },
    {
     "cell_type": "markdown",
     "metadata": {},
     "source": [
      "### Part 1, Problem 7\n",
      "#### How many multiplications are performed when each of the following lines of code is executed?"
     ]
    },
    {
     "cell_type": "code",
     "collapsed": false,
     "input": [
      "numcalls = 0\n",
      "def square(x):                           # Defining a function that takes input x, compute its square and return its output.\n",
      "    global numcalls                      \n",
      "    numcalls = numcalls + 1\n",
      "    return x * x                        # the square is computed using a multiplication of x by itself\\n\",\n",
      "\n",
      "print square(5)\n",
      "print square(2*5)"
     ],
     "language": "python",
     "metadata": {},
     "outputs": [],
     "prompt_number": "*"
    },
    {
     "cell_type": "raw",
     "metadata": {},
     "source": [
      "Therefore for the first statement square(5) one multiplication is performed within the function\n",
      "as for the second statment square(2*5) two multiplication are performed, \n",
      "one at the level of input 2*5 = 10 and one with in the function: the input now is 10 and the output is 10*10 = 100  "
     ]
    },
    {
     "cell_type": "markdown",
     "metadata": {},
     "source": [
      "### Part 1, Problem 10\n",
      "#### What will be the output of the following program?"
     ]
    },
    {
     "cell_type": "code",
     "collapsed": false,
     "input": [
      "x = 1        \n",
      "def f():     \n",
      "    y = x\n",
      "    x = 2                  \n",
      "    return x + y           \n",
      "\n",
      "print x\n",
      "print f()\n",
      "print x"
     ],
     "language": "python",
     "metadata": {},
     "outputs": [],
     "prompt_number": "*"
    },
    {
     "cell_type": "raw",
     "metadata": {},
     "source": [
      "The interpreter will run the first statment \"x = 1\" and assign x to 1.\n",
      "\n",
      "Then statment 2 defining a function f with no input and should return \"x + y\".\n",
      "However in the body of the function the first stament y = x and then the variable x is assigned to 2, the order is not correct because the interpreter will not have the value of x to be assigned to y with in the function. It is not passed as input as well as it is not defined in the set of the function variables. Thus, when the function will be called it should fail. \n",
      "\n",
      "Statment \"print x\" will print the value of x assigned 1. The assignment later for x to 2 within the function is local variable to the function they are related to the function itself unless specified \"global\".\n",
      "print f()  will fail because of the function definition is incorrect explained earlier.\n",
      "\n",
      "Finally, the last statment \"print x\" will not be excuted because the interpreter failed in the previous excution"
     ]
    },
    {
     "cell_type": "markdown",
     "metadata": {},
     "source": [
      "### Part 2, Problem 2\n",
      "#### Python has a built-in function \\\"sum\\\" to find sum of all elements of a list. Provide an implementation for \"sum\""
     ]
    },
    {
     "cell_type": "code",
     "collapsed": false,
     "input": [
      "# Below is an inplementation\n",
      "def imp_sum(x):\n",
      "    total = 0\n",
      "    for i in range(len(x)):\n",
      "        total = total +  x[i]\n",
      "    return total"
     ],
     "language": "python",
     "metadata": {},
     "outputs": [],
     "prompt_number": 1
    },
    {
     "cell_type": "markdown",
     "metadata": {},
     "source": [
      "## TEST Function sum_imp"
     ]
    },
    {
     "cell_type": "code",
     "collapsed": false,
     "input": [
      "x = range(5)\n",
      "print('Based on Guass summation rule, the sum is : ', 5*4/2 )\n",
      "print('Based on the implemented function, the sum is: ', imp_sum(x))\n",
      "print('Based on Python function \"sum\", the  sum is: ', sum(x))"
     ],
     "language": "python",
     "metadata": {},
     "outputs": [
      {
       "output_type": "stream",
       "stream": "stdout",
       "text": [
        "('Based on Guass summation rule, the sum is : ', 10)\n",
        "('Based on the implemented function, the sum is: ', 10.0)\n",
        "('Based on Python function \"sum\", the  sum is: ', 10)\n"
       ]
      }
     ],
     "prompt_number": 3
    },
    {
     "cell_type": "markdown",
     "metadata": {},
     "source": [
      "### Part 2, Problem 6\n",
      "#### Write a function reverse to reverse a list. Can you do this without using list slicing?"
     ]
    },
    {
     "cell_type": "code",
     "collapsed": false,
     "input": [
      "def reverse(x):\n",
      "    y = [None]*(len(x))\n",
      "    for i in range(0,len(x)): \n",
      "        y[i] = x[-i-1]\n",
      "    return y"
     ],
     "language": "python",
     "metadata": {},
     "outputs": [],
     "prompt_number": 4
    },
    {
     "cell_type": "markdown",
     "metadata": {},
     "source": [
      "##TEST Function \"reverse\""
     ]
    },
    {
     "cell_type": "code",
     "collapsed": false,
     "input": [
      "a = range(11)\n",
      "b = ['a','b','c','d']\n",
      "print(reverse(a))\n",
      "print(reverse(b))"
     ],
     "language": "python",
     "metadata": {},
     "outputs": [
      {
       "output_type": "stream",
       "stream": "stdout",
       "text": [
        "[10, 9, 8, 7, 6, 5, 4, 3, 2, 1, 0]\n",
        "['d', 'c', 'b', 'a']\n"
       ]
      }
     ],
     "prompt_number": 5
    },
    {
     "cell_type": "code",
     "collapsed": false,
     "input": [],
     "language": "python",
     "metadata": {},
     "outputs": []
    }
   ],
   "metadata": {}
  }
 ]
}