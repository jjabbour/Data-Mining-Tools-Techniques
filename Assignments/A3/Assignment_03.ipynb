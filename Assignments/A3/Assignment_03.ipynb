{
 "cells": [
  {
   "cell_type": "markdown",
   "metadata": {},
   "source": [
    "# Jamil Antoine Jabbour\n",
    "# SCS 3030 Big Data Tools and Techniques: Mining Financial, Operational and Social Networks Data\n",
    "# Assignment 03"
   ]
  },
  {
   "cell_type": "markdown",
   "metadata": {},
   "source": [
    "## Importing relevant library "
   ]
  },
  {
   "cell_type": "code",
   "execution_count": 1,
   "metadata": {
    "collapsed": false
   },
   "outputs": [],
   "source": [
    "import pandas as pd \n",
    "import numpy as np\n",
    "import statsmodels.api as sm\n",
    "import matplotlib.pyplot as plt\n",
    "%matplotlib inline"
   ]
  },
  {
   "cell_type": "markdown",
   "metadata": {},
   "source": [
    "## Importing the data for analysis"
   ]
  },
  {
   "cell_type": "code",
   "execution_count": 2,
   "metadata": {
    "collapsed": false
   },
   "outputs": [
    {
     "data": {
      "text/html": [
       "<div>\n",
       "<table border=\"1\" class=\"dataframe\">\n",
       "  <thead>\n",
       "    <tr style=\"text-align: right;\">\n",
       "      <th></th>\n",
       "      <th>O-rings_risk</th>\n",
       "      <th>Thermal_distress</th>\n",
       "      <th>Temperature</th>\n",
       "      <th>Pressure</th>\n",
       "      <th>Temporal_Order</th>\n",
       "    </tr>\n",
       "  </thead>\n",
       "  <tbody>\n",
       "    <tr>\n",
       "      <th>0</th>\n",
       "      <td>6</td>\n",
       "      <td>1</td>\n",
       "      <td>70</td>\n",
       "      <td>50</td>\n",
       "      <td>2</td>\n",
       "    </tr>\n",
       "    <tr>\n",
       "      <th>1</th>\n",
       "      <td>6</td>\n",
       "      <td>0</td>\n",
       "      <td>69</td>\n",
       "      <td>50</td>\n",
       "      <td>3</td>\n",
       "    </tr>\n",
       "    <tr>\n",
       "      <th>2</th>\n",
       "      <td>6</td>\n",
       "      <td>0</td>\n",
       "      <td>68</td>\n",
       "      <td>50</td>\n",
       "      <td>4</td>\n",
       "    </tr>\n",
       "    <tr>\n",
       "      <th>3</th>\n",
       "      <td>6</td>\n",
       "      <td>0</td>\n",
       "      <td>67</td>\n",
       "      <td>50</td>\n",
       "      <td>5</td>\n",
       "    </tr>\n",
       "    <tr>\n",
       "      <th>4</th>\n",
       "      <td>6</td>\n",
       "      <td>0</td>\n",
       "      <td>72</td>\n",
       "      <td>50</td>\n",
       "      <td>6</td>\n",
       "    </tr>\n",
       "    <tr>\n",
       "      <th>5</th>\n",
       "      <td>6</td>\n",
       "      <td>0</td>\n",
       "      <td>73</td>\n",
       "      <td>100</td>\n",
       "      <td>7</td>\n",
       "    </tr>\n",
       "    <tr>\n",
       "      <th>6</th>\n",
       "      <td>6</td>\n",
       "      <td>0</td>\n",
       "      <td>70</td>\n",
       "      <td>100</td>\n",
       "      <td>8</td>\n",
       "    </tr>\n",
       "  </tbody>\n",
       "</table>\n",
       "</div>"
      ],
      "text/plain": [
       "   O-rings_risk  Thermal_distress  Temperature   Pressure  Temporal_Order\n",
       "0             6                 1            70        50               2\n",
       "1             6                 0            69        50               3\n",
       "2             6                 0            68        50               4\n",
       "3             6                 0            67        50               5\n",
       "4             6                 0            72        50               6\n",
       "5             6                 0            73       100               7\n",
       "6             6                 0            70       100               8"
      ]
     },
     "execution_count": 2,
     "metadata": {},
     "output_type": "execute_result"
    }
   ],
   "source": [
    "#url = 'https://archive.ics.uci.edu/ml/machine-learning-databases/space-shuttle/o-ring-erosion-or-blowby.data'\n",
    "#data = pd.read_csv(url,delim_whitespace=True,names=attribute)\n",
    "attribute = ['O-rings_risk','Thermal_distress','Temperature ','Pressure','Temporal_Order']\n",
    "data = pd.read_excel('o-ring-erosion-or-blowby.xlsx',names=attribute)\n",
    "data.head(7)"
   ]
  },
  {
   "cell_type": "markdown",
   "metadata": {},
   "source": [
    "## Import the X, y arrays for regression model fitting"
   ]
  },
  {
   "cell_type": "code",
   "execution_count": 3,
   "metadata": {
    "collapsed": false
   },
   "outputs": [],
   "source": [
    "X = data[['Temperature ','Pressure']]\n",
    "y = data['Thermal_distress']"
   ]
  },
  {
   "cell_type": "markdown",
   "metadata": {},
   "source": [
    "## Visualizing the data in pairs "
   ]
  },
  {
   "cell_type": "code",
   "execution_count": 4,
   "metadata": {
    "collapsed": false
   },
   "outputs": [
    {
     "data": {
      "image/png": "[encoded data removed]",
      "text/plain": [
       "<matplotlib.figure.Figure at 0xc08d4e0>"
      ]
     },
     "metadata": {},
     "output_type": "display_data"
    }
   ],
   "source": [
    "figure1 = pd.tools.plotting.scatter_matrix(data[attribute[1:4]],figsize=(9.5,8))"
   ]
  },
  {
   "cell_type": "markdown",
   "metadata": {},
   "source": [
    "## Fitting the model "
   ]
  },
  {
   "cell_type": "code",
   "execution_count": 5,
   "metadata": {
    "collapsed": false
   },
   "outputs": [],
   "source": [
    "X = sm.add_constant(X)\n",
    "reg_model = sm.OLS(y,X)\n",
    "result = reg_model.fit()"
   ]
  },
  {
   "cell_type": "code",
   "execution_count": 6,
   "metadata": {
    "collapsed": false
   },
   "outputs": [
    {
     "name": "stdout",
     "output_type": "stream",
     "text": [
      "Parameter of the linear regression: \n",
      "const           3.452925\n",
      "Temperature    -0.049570\n",
      "Pressure        0.002631\n",
      "dtype: float64\n",
      "Coefficient of determination r^2: \n",
      "0.352223598996\n"
     ]
    }
   ],
   "source": [
    "print('Parameter of the linear regression: ')\n",
    "print(result.params)\n",
    "print('Coefficient of determination r^2: ')\n",
    "print result.rsquared"
   ]
  },
  {
   "cell_type": "markdown",
   "metadata": {},
   "source": [
    "## Result Summary"
   ]
  },
  {
   "cell_type": "code",
   "execution_count": 7,
   "metadata": {
    "collapsed": false
   },
   "outputs": [
    {
     "name": "stdout",
     "output_type": "stream",
     "text": [
      "                            OLS Regression Results                            \n",
      "==============================================================================\n",
      "Dep. Variable:       Thermal_distress   R-squared:                       0.352\n",
      "Model:                            OLS   Adj. R-squared:                  0.284\n",
      "Method:                 Least Squares   F-statistic:                     5.166\n",
      "Date:                Fri, 28 Oct 2016   Prob (F-statistic):             0.0162\n",
      "Time:                        13:12:45   Log-Likelihood:                -16.991\n",
      "No. Observations:                  22   AIC:                             39.98\n",
      "Df Residuals:                      19   BIC:                             43.25\n",
      "Df Model:                           2                                         \n",
      "Covariance Type:            nonrobust                                         \n",
      "================================================================================\n",
      "                   coef    std err          t      P>|t|      [95.0% Conf. Int.]\n",
      "--------------------------------------------------------------------------------\n",
      "const            3.4529      1.235      2.797      0.011         0.869     6.037\n",
      "Temperature     -0.0496      0.017     -2.893      0.009        -0.085    -0.014\n",
      "Pressure         0.0026      0.002      1.412      0.174        -0.001     0.007\n",
      "==============================================================================\n",
      "Omnibus:                       18.538   Durbin-Watson:                   2.178\n",
      "Prob(Omnibus):                  0.000   Jarque-Bera (JB):               21.347\n",
      "Skew:                           1.756   Prob(JB):                     2.31e-05\n",
      "Kurtosis:                       6.310   Cond. No.                     1.87e+03\n",
      "==============================================================================\n",
      "\n",
      "Warnings:\n",
      "[1] Standard Errors assume that the covariance matrix of the errors is correctly specified.\n",
      "[2] The condition number is large, 1.87e+03. This might indicate that there are\n",
      "strong multicollinearity or other numerical problems.\n"
     ]
    }
   ],
   "source": [
    "print result.summary()"
   ]
  },
  {
   "cell_type": "markdown",
   "metadata": {},
   "source": [
    "## Creating the testing values "
   ]
  },
  {
   "cell_type": "code",
   "execution_count": 8,
   "metadata": {
    "collapsed": false
   },
   "outputs": [
    {
     "name": "stdout",
     "output_type": "stream",
     "text": [
      "[[   1.   31.    0.]\n",
      " [   1.   31.   50.]\n",
      " [   1.   31.  100.]\n",
      " [   1.   31.  150.]\n",
      " [   1.   31.  200.]]\n"
     ]
    }
   ],
   "source": [
    "xs1 = 31*np.ones([5,1])\n",
    "xs2 = np.linspace(0,200,5)\n",
    "X_test = np.column_stack([np.ones_like(xs1),xs1,xs2])\n",
    "print X_test"
   ]
  },
  {
   "cell_type": "markdown",
   "metadata": {},
   "source": [
    "## Evaluate the testing values"
   ]
  },
  {
   "cell_type": "code",
   "execution_count": 9,
   "metadata": {
    "collapsed": false
   },
   "outputs": [
    {
     "name": "stdout",
     "output_type": "stream",
     "text": [
      "[ 1.91624583  2.04778902  2.17933221  2.31087539  2.44241858]\n"
     ]
    }
   ],
   "source": [
    "y_hat = result.predict(X_test)\n",
    "print y_hat"
   ]
  },
  {
   "cell_type": "markdown",
   "metadata": {},
   "source": [
    "## Plotting the results"
   ]
  },
  {
   "cell_type": "code",
   "execution_count": 10,
   "metadata": {
    "collapsed": false
   },
   "outputs": [
    {
     "data": {
      "image/png": "[encoded data removed]",
      "text/plain": [
       "<matplotlib.figure.Figure at 0xd35d390>"
      ]
     },
     "metadata": {},
     "output_type": "display_data"
    }
   ],
   "source": [
    "# setting figure dimension\n",
    "fig = plt.gcf()\n",
    "fig.set_size_inches(10, 8)\n",
    "\n",
    "# plotting the figure and adding title and axes label\n",
    "plt.plot(X_test[:,2],result.predict(X_test),'ro')\n",
    "plt.xlabel('Pressure')\n",
    "plt.ylabel('# of O-ring experiencing thermal stress')\n",
    "plt.axis([-5 , 205, 0 , 3 ])\n",
    "plt.title('O-ring at risk as a function of Pressure \\\n",
    "          \\n keeping the Temperature fixed\\n')\n",
    "plt.show()"
   ]
  },
  {
   "cell_type": "markdown",
   "metadata": {
    "collapsed": true
   },
   "source": [
    "## Summary:\n",
    "\n",
    "For this set of data provided as \"o-ring-erosion-or-blowby.xlsx\", an ordinary least square regression is performed. We use python's statsmodel library.\n",
    "\n",
    "In this data set, The independent variables we are interested in are \"Temperature\" in $^\\circ F$ and \"Pressure\" in $(psi)$ and we want to predit the number of O-ring that are experience a thermal distress as a function of the two independent variables. \n",
    "\n",
    "Note that the multiple linear regression model fits the data poorly with a coefficeint of determination: $r^2 = 0.354$. \n",
    "\n",
    "The model predicts that the number of O-ring expressing thermal stress, for various pressure range of (0 to 200) at a freezing temperature of $31^\\circ F$ is ~2. The effect of the change in pressure seems to be minimal on the number of O-ring experiencing thermal stress. This is also explained and identified by the coefficient of the pressure in the model that is $a_p = 0.002939$.\n"
   ]
  },
  {
   "cell_type": "code",
   "execution_count": null,
   "metadata": {
    "collapsed": false
   },
   "outputs": [],
   "source": []
  }
 ],
 "metadata": {
  "anaconda-cloud": {},
  "kernelspec": {
   "display_name": "Python [Root]",
   "language": "python",
   "name": "Python [Root]"
  },
  "language_info": {
   "codemirror_mode": {
    "name": "ipython",
    "version": 2
   },
   "file_extension": ".py",
   "mimetype": "text/x-python",
   "name": "python",
   "nbconvert_exporter": "python",
   "pygments_lexer": "ipython2",
   "version": "2.7.12"
  }
 },
 "nbformat": 4,
 "nbformat_minor": 1
}
