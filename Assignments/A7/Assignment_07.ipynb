{
 "cells": [
  {
   "cell_type": "markdown",
   "metadata": {
    "collapsed": true
   },
   "source": [
    "# Jamil Antoine Jabbour\n",
    "# SCS 3030 Big Data Tools and Techniques: Mining Financial, Operational and Social Networks Data\n",
    "# Assignment 07"
   ]
  },
  {
   "cell_type": "markdown",
   "metadata": {
    "collapsed": true
   },
   "source": [
    "### Importing pymongo.MongoClient"
   ]
  },
  {
   "cell_type": "code",
   "execution_count": 1,
   "metadata": {
    "collapsed": false
   },
   "outputs": [],
   "source": [
    "from pymongo import MongoClient\n",
    "import matplotlib.pyplot as plt \n",
    "%matplotlib inline"
   ]
  },
  {
   "cell_type": "code",
   "execution_count": 2,
   "metadata": {
    "collapsed": true
   },
   "outputs": [],
   "source": [
    "client = MongoClient()"
   ]
  },
  {
   "cell_type": "markdown",
   "metadata": {},
   "source": [
    "### Reading collections of the database \"enron\""
   ]
  },
  {
   "cell_type": "code",
   "execution_count": 3,
   "metadata": {
    "collapsed": false
   },
   "outputs": [],
   "source": [
    "mydb = client.enron\n",
    "mycollection = mydb.mbox"
   ]
  },
  {
   "cell_type": "markdown",
   "metadata": {
    "collapsed": false
   },
   "source": [
    "### Saving Jeff Skilling email in lists"
   ]
  },
  {
   "cell_type": "code",
   "execution_count": 4,
   "metadata": {
    "collapsed": false
   },
   "outputs": [],
   "source": [
    "skillingEmailRecived = []\n",
    "skillingEmailSent    = []\n",
    "\n",
    "for post in mycollection.find({\"To\":\"jeff.skilling@enron.com\"}):\n",
    "    skillingEmailRecived.append(post)\n",
    "for post in mycollection.find({\"From\":\"jeff.skilling@enron.com\"}):\n",
    "    skillingEmailSent.append(post)       "
   ]
  },
  {
   "cell_type": "markdown",
   "metadata": {},
   "source": [
    "### Saving Lay Kenneth email in lists"
   ]
  },
  {
   "cell_type": "code",
   "execution_count": 5,
   "metadata": {
    "collapsed": true
   },
   "outputs": [],
   "source": [
    "layEmailRecived = []\n",
    "layEmailSent    = []\n",
    "\n",
    "for post in mycollection.find({\"To\":\"kenneth.lay@enron.com\"}):\n",
    "    layEmailRecived.append(post)\n",
    "for post in mycollection.find({\"From\":\"kenneth.lay@enron.com\"}):\n",
    "    layEmailSent.append(post)      "
   ]
  },
  {
   "cell_type": "markdown",
   "metadata": {},
   "source": [
    "### Total number of email sent and received by Enron's Owner and CEO"
   ]
  },
  {
   "cell_type": "code",
   "execution_count": 6,
   "metadata": {
    "collapsed": false
   },
   "outputs": [
    {
     "name": "stdout",
     "output_type": "stream",
     "text": [
      "['toJeff', 'fromJeff', 'toKen', 'fromKen']\n",
      "[655, 0, 1148, 6]\n"
     ]
    }
   ],
   "source": [
    "toJeff   = mycollection.find({\"To\": \"jeff.skilling@enron.com\"}).count()\n",
    "fromJeff = mycollection.find({\"From\": \"jeff.skilling@enron.com\"}).count()\n",
    "toKen    = mycollection.find({\"To\": \"kenneth.lay@enron.com\"}).count()\n",
    "fromKen    = mycollection.find({\"From\": \"kenneth.lay@enron.com\"}).count()\n",
    "exececutive =  [\"toJeff\",\"fromJeff\",\"toKen\",\"fromKen\"]\n",
    "numbEmail   = [toJeff,fromJeff,toKen,fromKen]\n",
    "print exececutive\n",
    "print numbEmail"
   ]
  },
  {
   "cell_type": "markdown",
   "metadata": {
    "collapsed": false
   },
   "source": [
    "### Number of  emails in this database between Enron's owner and CEO"
   ]
  },
  {
   "cell_type": "code",
   "execution_count": 7,
   "metadata": {
    "collapsed": false
   },
   "outputs": [
    {
     "name": "stdout",
     "output_type": "stream",
     "text": [
      "0\n",
      "0\n"
     ]
    }
   ],
   "source": [
    "print mycollection.find({\"From\": \"kenneth.lay@enron.com\",\"To\": \"jeff.skilling@enron.com\"}).count()\n",
    "print mycollection.find({\"To\": \"kenneth.lay@enron.com\",\"From\": \"jeff.skilling@enron.com\"}).count()"
   ]
  },
  {
   "cell_type": "markdown",
   "metadata": {},
   "source": [
    "### Plot of number of emails sent between Enron's Owner and CEO"
   ]
  },
  {
   "cell_type": "code",
   "execution_count": 8,
   "metadata": {
    "collapsed": false,
    "scrolled": true
   },
   "outputs": [
    {
     "data": {
      "image/png": "[encoded data removed]",
      "text/plain": [
       "<matplotlib.figure.Figure at 0xa36ac88>"
      ]
     },
     "metadata": {},
     "output_type": "display_data"
    }
   ],
   "source": [
    "x = range(len(numbEmail))\n",
    "y = numbEmail\n",
    "plt.figure(figsize=[10,4])\n",
    "plt.plot(x,numbEmail,'ro')\n",
    "plt.axis([min(x)-1, max(x) +1, min(y)-20, max(y)+20])\n",
    "plt.xticks(x,exececutive)\n",
    "plt.ylabel(\"number of emails\")\n",
    "plt.title(\"Illustration of number of email between Kenneth Lay and Jeff Skilling\\n\")\n",
    "plt.show()"
   ]
  },
  {
   "cell_type": "code",
   "execution_count": 9,
   "metadata": {
    "collapsed": false
   },
   "outputs": [
    {
     "data": {
      "text/plain": [
       "{u'Bcc': [u'mspradling@velaw.com'],\n",
       " u'Cc': [u'mspradling@velaw.com'],\n",
       " u'Content-Transfer-Encoding': u'7bit',\n",
       " u'Content-Type': u'text/plain; charset=us-ascii',\n",
       " u'Date': datetime.datetime(2001, 9, 21, 12, 25, 21),\n",
       " u'From': u'joel.ephross@enron.com',\n",
       " u'Message-ID': u'<28660745.1075858812819.JavaMail.evans@thyme>',\n",
       " u'Mime-Version': u'1.0',\n",
       " u'Subject': u'Raptor',\n",
       " u'To': [u'maricela.trevino@enron.com',\n",
       "  u'sara.shackleton@enron.com',\n",
       "  u'mary.cook@enron.com',\n",
       "  u'george.mckean@enron.com',\n",
       "  u'brent.vasconcellos@enron.com'],\n",
       " u'X-FileName': u'SSHACKL (Non-Privileged).pst',\n",
       " u'X-Folder': u'\\\\SSHACKL (Non-Privileged)\\\\Shackleton, Sara\\\\Inbox',\n",
       " u'X-From': u'Ephross, Joel </O=ENRON/OU=NA/CN=RECIPIENTS/CN=JEPHROS>',\n",
       " u'X-Origin': u'Shackleton-S',\n",
       " u'X-To': u'Trevino, Maricela </O=ENRON/OU=NA/CN=RECIPIENTS/CN=Mtrevin>, Shackleton,\\n Sara </O=ENRON/OU=NA/CN=RECIPIENTS/CN=Sshackl>, Cook,\\n Mary </O=ENRON/OU=NA/CN=RECIPIENTS/CN=Mcook>, Mckean,\\n George </O=ENRON/OU=NA/CN=RECIPIENTS/CN=Gmckean>, Vasconcellos,\\n Brent </O=ENRON/OU=NA/CN=RECIPIENTS/CN=Bvascon>',\n",
       " u'X-bcc': u'',\n",
       " u'X-cc': u\"'mspradling@velaw.com'\",\n",
       " u'_id': ObjectId('5838502ab00743b3e9962177'),\n",
       " u'parts': [{u'content': u'Maricela, attached is a draft of one of the Purchase Agreements in conection with the Raptor unwind. Similar agreements are envisioned for each of the other Raptor structures. The plan is to dissolve each Raptor entity [except for the entities involved in Raptor 3, namely Pronghorn I LLC and Porcupine, LLC] the day following the LJM buyout -- in other words, prior to the end of the quarter. [In the case of Raptor 3, since the note is monetized into Hawaii, this will need to remain in place until the take out of the note.] Please prepare the necessary documents for filing with the Secretary of State to dissolve the following entities:\\n\\nGrizzly I LLC,\\nTimberwolf, LLC\\nRoadrunner I LLC\\nBobcat, LLC \\nHarrier I LLC\\nTalon, LLC\\n\\n\\n\\n\\n\\n\\n\\n-----Original Message-----\\nFrom: Spradling, Mark [mailto:MSpradling@velaw.com]\\nSent: Friday, September 21, 2001 10:48 AM\\nTo: Mckean, George; Ephross, Joel; Vasconcellos, Brent\\nCc: Osterberg, Edward; McCulloch, Bruce C.\\nSubject: Revised Purchase Agreement\\n\\n\\nAttached are the clean and redlined versions of the Purchase Agreement.\\n\\n\\n\\n\\n\\n\\n\\n\\n\\nMark R. Spradling\\nVinson & Elkins L.L.P.\\n2300 First City Tower\\n1001 Fannin\\nHouston, Texas  77002\\n713-758-2828\\n713-615-5545 (fax)\\n\\nFor more information about the full range of services offered by Vinson &\\nElkins, including our latest publications on legal topics, please visit our\\nwebsite at www.velaw.com.\\n++++++CONFIDENTIALITY NOTICE+++++\\nThe information in this email may be confidential and/or privileged.  This\\nemail is intended to be reviewed by only the individual or organization\\nnamed above.  If you are not the intended recipient or an authorized\\nrepresentative of the intended recipient, you are hereby notified that any\\nreview, dissemination or copying of this email and its attachments, if any,\\nor the information contained herein is prohibited.  If you have received\\nthis email in error, please immediately notify the sender by return email\\nand delete this email from your system.  Thank You\\n    \\n\\n',\n",
       "   u'contentType': u'text/plain'}]}"
      ]
     },
     "execution_count": 9,
     "metadata": {},
     "output_type": "execute_result"
    }
   ],
   "source": [
    "### Reading an email containing subject \"Raptor\"\n",
    "mycollection.find({\"Subject\" : \"Raptor\"})[0]"
   ]
  }
 ],
 "metadata": {
  "anaconda-cloud": {},
  "kernelspec": {
   "display_name": "Python [Root]",
   "language": "python",
   "name": "Python [Root]"
  },
  "language_info": {
   "codemirror_mode": {
    "name": "ipython",
    "version": 2
   },
   "file_extension": ".py",
   "mimetype": "text/x-python",
   "name": "python",
   "nbconvert_exporter": "python",
   "pygments_lexer": "ipython2",
   "version": "2.7.12"
  }
 },
 "nbformat": 4,
 "nbformat_minor": 0
}
