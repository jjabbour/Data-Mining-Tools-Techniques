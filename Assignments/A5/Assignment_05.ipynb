{
 "cells": [
  {
   "cell_type": "markdown",
   "metadata": {
    "collapsed": true
   },
   "source": [
    "# Jamil Antoine Jabbour\n",
    "# SCS 3030 Big Data Tools and Techniques: Mining Financial, Operational and Social Networks Data\n",
    "# Assignment 05"
   ]
  },
  {
   "cell_type": "markdown",
   "metadata": {},
   "source": [
    "### In this Assignment, we will extend the example of kNN applied to the iris flower classification that is implemented from scratch in Python \n",
    "http://machinelearningmastery.com/tutorial-to-implement-k-nearest-neighbors-in-python-from-scratch/.\n",
    "#### The neighbors are identified based on the Euclidean distance of the four attributes the Sepal length and width and the Petal length and width.  We will extend this code by implementing the Cosine and the Manhattan distance define as follow:                                                                                  \n",
    "#### Given $\\mathbf{x},\\mathbf{y} \\in \\mathbb{R}^n$, $\\mathbf{x} = (x_1,x_2,\\cdots,x_n)$\n",
    "#### Euclidean distance : $\\sqrt{\\sum_{i=1}^{n}(x_i - y_i)^2}$ \n",
    "#### Cosine distance :  $1 - \\frac{\\mathbf{x}\\cdot\\mathbf{y}}{\\mathbf{||x||}\\cdot\\mathbf{||y||}}$ , where  $||\\mathbf{x}|| = \\sqrt{\\sum_{i=1}^{n}{x_i}^2} $\n",
    "#### Manhattan distance: $\\sum_{i=1}^n |x_i - y_i|$ \n",
    "\n",
    "### Finally we will illustrate the accuracy of the kNN model based on the use of the three different metrics"
   ]
  },
  {
   "cell_type": "markdown",
   "metadata": {},
   "source": [
    "### Importing necessary Libraries"
   ]
  },
  {
   "cell_type": "code",
   "execution_count": 1,
   "metadata": {
    "collapsed": false
   },
   "outputs": [],
   "source": [
    "import csv\n",
    "import random\n",
    "import math\n",
    "import operator\n",
    "import matplotlib.pyplot as plt\n",
    "%matplotlib inline"
   ]
  },
  {
   "cell_type": "markdown",
   "metadata": {},
   "source": [
    "### Defining a function that load a filename and split it into training and testing data "
   ]
  },
  {
   "cell_type": "code",
   "execution_count": 2,
   "metadata": {
    "collapsed": true
   },
   "outputs": [],
   "source": [
    "def loadDataset(filename, split, trainingSet=[] , testSet=[]):\n",
    "    with open(filename, 'rb') as csvfile:\n",
    "        lines = csv.reader(csvfile)\n",
    "        dataset = list(lines)\n",
    "        for x in range(len(dataset)-1):\n",
    "            for y in range(4):\n",
    "                dataset[x][y] = float(dataset[x][y])\n",
    "            if random.random() < split:\n",
    "                trainingSet.append(dataset[x])\n",
    "            else:\n",
    "                testSet.append(dataset[x])   "
   ]
  },
  {
   "cell_type": "markdown",
   "metadata": {},
   "source": [
    "### Define the three different metrics: \n",
    "### Euclidean, Cosine and Manhattan distances"
   ]
  },
  {
   "cell_type": "code",
   "execution_count": 3,
   "metadata": {
    "collapsed": true
   },
   "outputs": [],
   "source": [
    "def euclideanDistance(instance1, instance2, length):\n",
    "    distance = 0\n",
    "    for x in range(length):\n",
    "        distance += pow((instance1[x] - instance2[x]), 2)\n",
    "    return math.sqrt(distance)\n",
    "\n",
    "def cosinedistance(instance1, instance2, length):\n",
    "    norm1_squared = 0 \n",
    "    norm2_squared = 0 \n",
    "    term = 0 \n",
    "    for x in range(length):\n",
    "        term += (instance1[x] * instance2[x])\n",
    "        norm1_squared += pow(instance1[x],2) \n",
    "        norm2_squared += pow(instance2[x],2)\n",
    "    norm1 = math.sqrt(norm1_squared)\n",
    "    norm2 = math.sqrt(norm2_squared)\n",
    "    distance = 1 - term/(norm1*norm2)\n",
    "    return distance \n",
    "\n",
    "def manhathendistance(instance1,instance2,length):\n",
    "    distance = 0 \n",
    "    for x in range(length):\n",
    "        distance += abs(instance1[x]-instance2[x])        \n",
    "    return distance  "
   ]
  },
  {
   "cell_type": "raw",
   "metadata": {},
   "source": [
    "\n",
    "\n",
    "\n",
    "\n",
    "\n"
   ]
  },
  {
   "cell_type": "markdown",
   "metadata": {},
   "source": [
    "### Defining a function that returns k most similar neighbors of an instance from the training set  based on a metric "
   ]
  },
  {
   "cell_type": "code",
   "execution_count": 4,
   "metadata": {
    "collapsed": true
   },
   "outputs": [],
   "source": [
    "def getNeighbors_euclidean(trainingSet, testInstance, k):\n",
    "    distances = []\n",
    "    length = len(testInstance)-1\n",
    "    for x in range(len(trainingSet)):\n",
    "        dist = euclideanDistance(testInstance, trainingSet[x], length)\n",
    "        distances.append((trainingSet[x], dist))\n",
    "    distances.sort(key=operator.itemgetter(1))\n",
    "    neighbors = []\n",
    "    for x in range(k):\n",
    "        neighbors.append(distances[x][0])\n",
    "    return neighbors\n",
    "\n",
    "def getNeighbors_cosine(trainingSet, testInstance, k):\n",
    "    distances = []\n",
    "    length = len(testInstance)-1\n",
    "    for x in range(len(trainingSet)):\n",
    "        dist = cosinedistance(testInstance, trainingSet[x], length)\n",
    "        distances.append((trainingSet[x], dist))\n",
    "    distances.sort(key=operator.itemgetter(1))\n",
    "    neighbors = []\n",
    "    for x in range(k):\n",
    "        neighbors.append(distances[x][0])\n",
    "    return neighbors\n",
    "\n",
    "def getNeighbors_man(trainingSet, testInstance, k):\n",
    "    distances = []\n",
    "    length = len(testInstance)-1\n",
    "    for x in range(len(trainingSet)):\n",
    "        dist = manhathendistance(testInstance, trainingSet[x], length)\n",
    "        distances.append((trainingSet[x], dist))\n",
    "    distances.sort(key=operator.itemgetter(1))\n",
    "    neighbors = []\n",
    "    for x in range(k):\n",
    "        neighbors.append(distances[x][0])\n",
    "    return neighbors"
   ]
  },
  {
   "cell_type": "markdown",
   "metadata": {},
   "source": [
    "### Defining a function that obtains the majority voted response from neighbors"
   ]
  },
  {
   "cell_type": "code",
   "execution_count": 5,
   "metadata": {
    "collapsed": true
   },
   "outputs": [],
   "source": [
    "def getResponse(neighbors):\n",
    "    classVotes = {}\n",
    "    for x in range(len(neighbors)):\n",
    "        response = neighbors[x][-1]\n",
    "        if response in classVotes:\n",
    "            classVotes[response] += 1\n",
    "        else:\n",
    "            classVotes[response] = 1\n",
    "    sortedVotes = sorted(classVotes.iteritems(), key=operator.itemgetter(1), reverse=True)\n",
    "    return sortedVotes[0][0]"
   ]
  },
  {
   "cell_type": "markdown",
   "metadata": {},
   "source": [
    "### Define a function that computes the accuracy of the model based on correct classification of the test data"
   ]
  },
  {
   "cell_type": "code",
   "execution_count": 6,
   "metadata": {
    "collapsed": false
   },
   "outputs": [],
   "source": [
    "def getAccuracy(testSet, predictions):\n",
    "    correct = 0\n",
    "    for x in range(len(testSet)):\n",
    "        if testSet[x][-1] == predictions[x]:\n",
    "            correct += 1\n",
    "    return (correct/float(len(testSet))) * 100.0 "
   ]
  },
  {
   "cell_type": "markdown",
   "metadata": {},
   "source": [
    "### Define main function that  runs kNN algorithm based on three different metrics."
   ]
  },
  {
   "cell_type": "code",
   "execution_count": 7,
   "metadata": {
    "collapsed": false
   },
   "outputs": [],
   "source": [
    "def main():\n",
    "    # prepare data\n",
    "    trainingSet=[]\n",
    "    testSet=[]\n",
    "    split = 0.67\n",
    "    loadDataset('iris.dat', split, trainingSet, testSet)\n",
    "#    print 'Train set: ' + repr(len(trainingSet))\n",
    "#    print 'Test set: ' + repr(len(testSet))\n",
    "    # generate predictions\n",
    "    predictions_euclidean=[]\n",
    "    predictions_cosine   =[]\n",
    "    predictions_man       =[]\n",
    "    k = 3\n",
    "    for x in range(len(testSet)):\n",
    "        neighbors_euc = getNeighbors_euclidean(trainingSet, testSet[x], k)\n",
    "        neighbors_cos = getNeighbors_cosine(trainingSet, testSet[x], k)\n",
    "        neighbors_man = getNeighbors_man(trainingSet, testSet[x], k)\n",
    "        result1 = getResponse(neighbors_euc)\n",
    "        result2 = getResponse(neighbors_cos)\n",
    "        result3 = getResponse(neighbors_man)\n",
    "        \n",
    "        predictions_euclidean.append(result1)\n",
    "        predictions_cosine.append(result2)\n",
    "        predictions_man.append(result3)\n",
    "#        print('> predicted=' + repr(result) + ', actual=' + repr(testSet[x][-1]))\n",
    "    accuracy1 = getAccuracy(testSet, predictions_euclidean)\n",
    "    accuracy2 = getAccuracy(testSet, predictions_cosine)\n",
    "    accuracy3 = getAccuracy(testSet, predictions_man)\n",
    "#    print('Accuracy: ' + repr(accuracy) + '%')\n",
    "    return [len(trainingSet),len(testSet),accuracy1,accuracy2,accuracy3]"
   ]
  },
  {
   "cell_type": "markdown",
   "metadata": {},
   "source": [
    "### Testing a run "
   ]
  },
  {
   "cell_type": "code",
   "execution_count": 8,
   "metadata": {
    "collapsed": false
   },
   "outputs": [
    {
     "name": "stdout",
     "output_type": "stream",
     "text": [
      "[97, 52, 96.15384615384616, 98.07692307692307, 96.15384615384616]\n"
     ]
    }
   ],
   "source": [
    "run_results = main()\n",
    "print run_results"
   ]
  },
  {
   "cell_type": "markdown",
   "metadata": {
    "collapsed": true
   },
   "source": [
    "### Collect the training data size and the accuracy of the three different metric for different runs "
   ]
  },
  {
   "cell_type": "code",
   "execution_count": 9,
   "metadata": {
    "collapsed": false
   },
   "outputs": [],
   "source": [
    "x,y1, y2,y3 = [],[],[],[]\n",
    "runs = 12\n",
    "for i in range(runs):\n",
    "    run_results = main()\n",
    "    x.append(run_results[0])\n",
    "    y1.append(run_results[2])\n",
    "    y2.append(run_results[3])\n",
    "    y3.append(run_results[4])"
   ]
  },
  {
   "cell_type": "code",
   "execution_count": 10,
   "metadata": {
    "collapsed": false
   },
   "outputs": [
    {
     "data": {
      "image/png": "[encoded data removed]",
      "text/plain": [
       "<matplotlib.figure.Figure at 0x7313160>"
      ]
     },
     "metadata": {},
     "output_type": "display_data"
    }
   ],
   "source": [
    "plt.figure(figsize=[12,6.5])\n",
    "plt.plot(x,y1,'bo',label='Euclidean')\n",
    "plt.plot(x,y2,'r*',label='Cosine')\n",
    "plt.plot(x,y3,'g^',label='Manhattan')\n",
    "plt.axis([min(x)-1,max(x) + 1,85,105])\n",
    "plt.legend(loc='upper center', bbox_to_anchor=(0.5, 1.0),fancybox=True, shadow=True, ncol=5)\n",
    "plt.title('Accuracy of different metrics as a function of training data size\\n',fontsize = 20)\n",
    "plt.xlabel('# of training data',fontsize=14)\n",
    "plt.ylabel('Accuracy %',fontsize=14)\n",
    "plt.grid()\n",
    "plt.show()"
   ]
  },
  {
   "cell_type": "markdown",
   "metadata": {},
   "source": [
    "### Conclusion \n",
    "Based on multiple runs holding the number of similar neighbors $k = 3$ and the split percentage $\\alpha = 0.67$, the accuracy seems to be above 90% for the three different metrics. However, it seems that the Manhattan distance seems to have the lowest accuracy of the model. We should also consider testing the effects of changing the values of $k$ and $\\alpha$ on the accuracy of the model. Doing so, we can better determine the optimal choice of parameters and metrics."
   ]
  },
  {
   "cell_type": "code",
   "execution_count": 11,
   "metadata": {
    "collapsed": false
   },
   "outputs": [],
   "source": [
    "import numpy as np \n",
    "import pandas as pd"
   ]
  },
  {
   "cell_type": "code",
   "execution_count": 12,
   "metadata": {
    "collapsed": false
   },
   "outputs": [],
   "source": [
    "y1 = np.array(y1,dtype=float)\n",
    "y2 = np.array(y2,dtype=float)\n",
    "y3 = np.array(y3,dtype=float)"
   ]
  },
  {
   "cell_type": "code",
   "execution_count": 13,
   "metadata": {
    "collapsed": false
   },
   "outputs": [
    {
     "data": {
      "text/html": [
       "<div>\n",
       "<table border=\"1\" class=\"dataframe\">\n",
       "  <thead>\n",
       "    <tr style=\"text-align: right;\">\n",
       "      <th></th>\n",
       "      <th>Cosine</th>\n",
       "      <th>Euclidean</th>\n",
       "      <th>Manhattan</th>\n",
       "    </tr>\n",
       "  </thead>\n",
       "  <tbody>\n",
       "    <tr>\n",
       "      <th>1</th>\n",
       "      <td>96.000000</td>\n",
       "      <td>94.000000</td>\n",
       "      <td>92.000000</td>\n",
       "    </tr>\n",
       "    <tr>\n",
       "      <th>2</th>\n",
       "      <td>96.296296</td>\n",
       "      <td>94.444444</td>\n",
       "      <td>94.444444</td>\n",
       "    </tr>\n",
       "    <tr>\n",
       "      <th>3</th>\n",
       "      <td>100.000000</td>\n",
       "      <td>95.555556</td>\n",
       "      <td>95.555556</td>\n",
       "    </tr>\n",
       "    <tr>\n",
       "      <th>4</th>\n",
       "      <td>100.000000</td>\n",
       "      <td>96.226415</td>\n",
       "      <td>96.226415</td>\n",
       "    </tr>\n",
       "    <tr>\n",
       "      <th>5</th>\n",
       "      <td>95.652174</td>\n",
       "      <td>95.652174</td>\n",
       "      <td>93.478261</td>\n",
       "    </tr>\n",
       "    <tr>\n",
       "      <th>6</th>\n",
       "      <td>98.113208</td>\n",
       "      <td>100.000000</td>\n",
       "      <td>100.000000</td>\n",
       "    </tr>\n",
       "    <tr>\n",
       "      <th>7</th>\n",
       "      <td>95.555556</td>\n",
       "      <td>91.111111</td>\n",
       "      <td>91.111111</td>\n",
       "    </tr>\n",
       "    <tr>\n",
       "      <th>8</th>\n",
       "      <td>97.435897</td>\n",
       "      <td>94.871795</td>\n",
       "      <td>94.871795</td>\n",
       "    </tr>\n",
       "    <tr>\n",
       "      <th>9</th>\n",
       "      <td>97.959184</td>\n",
       "      <td>97.959184</td>\n",
       "      <td>97.959184</td>\n",
       "    </tr>\n",
       "    <tr>\n",
       "      <th>10</th>\n",
       "      <td>96.078431</td>\n",
       "      <td>94.117647</td>\n",
       "      <td>94.117647</td>\n",
       "    </tr>\n",
       "    <tr>\n",
       "      <th>11</th>\n",
       "      <td>98.181818</td>\n",
       "      <td>98.181818</td>\n",
       "      <td>96.363636</td>\n",
       "    </tr>\n",
       "    <tr>\n",
       "      <th>12</th>\n",
       "      <td>98.181818</td>\n",
       "      <td>100.000000</td>\n",
       "      <td>100.000000</td>\n",
       "    </tr>\n",
       "  </tbody>\n",
       "</table>\n",
       "</div>"
      ],
      "text/plain": [
       "        Cosine   Euclidean   Manhattan\n",
       "1    96.000000   94.000000   92.000000\n",
       "2    96.296296   94.444444   94.444444\n",
       "3   100.000000   95.555556   95.555556\n",
       "4   100.000000   96.226415   96.226415\n",
       "5    95.652174   95.652174   93.478261\n",
       "6    98.113208  100.000000  100.000000\n",
       "7    95.555556   91.111111   91.111111\n",
       "8    97.435897   94.871795   94.871795\n",
       "9    97.959184   97.959184   97.959184\n",
       "10   96.078431   94.117647   94.117647\n",
       "11   98.181818   98.181818   96.363636\n",
       "12   98.181818  100.000000  100.000000"
      ]
     },
     "execution_count": 13,
     "metadata": {},
     "output_type": "execute_result"
    }
   ],
   "source": [
    "df = pd.DataFrame({'Euclidean': y1,'Cosine': y2, 'Manhattan': y3},\\\n",
    "                  index=range(1,len(y1)+1))\n",
    "df"
   ]
  },
  {
   "cell_type": "code",
   "execution_count": null,
   "metadata": {
    "collapsed": true
   },
   "outputs": [],
   "source": []
  }
 ],
 "metadata": {
  "anaconda-cloud": {},
  "kernelspec": {
   "display_name": "Python [Root]",
   "language": "python",
   "name": "Python [Root]"
  },
  "language_info": {
   "codemirror_mode": {
    "name": "ipython",
    "version": 2
   },
   "file_extension": ".py",
   "mimetype": "text/x-python",
   "name": "python",
   "nbconvert_exporter": "python",
   "pygments_lexer": "ipython2",
   "version": "2.7.12"
  }
 },
 "nbformat": 4,
 "nbformat_minor": 1
}
